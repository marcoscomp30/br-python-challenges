{
  "nbformat": 4,
  "nbformat_minor": 0,
  "metadata": {
    "colab": {
      "name": "Desafios Python Awari.ipynb",
      "provenance": [],
      "collapsed_sections": []
    },
    "kernelspec": {
      "name": "python3",
      "display_name": "Python 3"
    }
  },
  "cells": [
    {
      "cell_type": "markdown",
      "metadata": {
        "id": "vv6cahhcPki0"
      },
      "source": [
        "**Desafio 1**\r\n",
        "\r\n",
        "Escreva um programa em Python para contabilizar a quantidade de ocorrências de cada palavra."
      ]
    },
    {
      "cell_type": "code",
      "metadata": {
        "id": "d4k5rMoJMqDA"
      },
      "source": [
        "palavras = [\r\n",
        "   'red', 'green', 'black', 'pink', 'black', 'white', 'black', 'eyes',\r\n",
        "   'white', 'black', 'orange', 'pink', 'pink', 'red', 'red', 'white', 'orange',\r\n",
        "   'white', \"black\", 'pink', 'green', 'green', 'pink', 'green', 'pink',\r\n",
        "   'white', 'orange', \"orange\", 'red'\r\n",
        "]\r\n",
        "\r\n"
      ],
      "execution_count": null,
      "outputs": []
    },
    {
      "cell_type": "code",
      "metadata": {
        "id": "JTXVsk_yPeNR",
        "colab": {
          "base_uri": "https://localhost:8080/"
        },
        "outputId": "6020a74f-57e0-4a0b-efe1-ce4cccf87996"
      },
      "source": [
        "print(len(palavras))"
      ],
      "execution_count": null,
      "outputs": [
        {
          "output_type": "stream",
          "text": [
            "29\n"
          ],
          "name": "stdout"
        }
      ]
    },
    {
      "cell_type": "code",
      "metadata": {
        "colab": {
          "base_uri": "https://localhost:8080/"
        },
        "id": "n6F1SYDZXVn2",
        "outputId": "3d793562-aff4-4f47-feea-cf933685ed6b"
      },
      "source": [
        "from collections import Counter\r\n",
        "palavras = ['red', 'green', 'black', 'pink', 'black', 'white', 'black', 'eyes',\r\n",
        "   'white', 'black', 'orange', 'pink', 'pink', 'red', 'red', 'white', 'orange',\r\n",
        "   'white', \"black\", 'pink', 'green', 'green', 'pink', 'green', 'pink',\r\n",
        "   'white', 'orange', \"orange\", 'red']\r\n",
        "Counter(palavras)"
      ],
      "execution_count": null,
      "outputs": [
        {
          "output_type": "execute_result",
          "data": {
            "text/plain": [
              "Counter({'black': 5,\n",
              "         'eyes': 1,\n",
              "         'green': 4,\n",
              "         'orange': 4,\n",
              "         'pink': 6,\n",
              "         'red': 4,\n",
              "         'white': 5})"
            ]
          },
          "metadata": {
            "tags": []
          },
          "execution_count": 119
        }
      ]
    },
    {
      "cell_type": "markdown",
      "metadata": {
        "id": "b5BcvvSkPsLC"
      },
      "source": [
        "**Desafio 2**\r\n",
        "\r\n",
        "Escreva uma função que recebe um número inteiro de horas e a converte em segundos."
      ]
    },
    {
      "cell_type": "code",
      "metadata": {
        "id": "c5lRc1x6UNrf",
        "colab": {
          "base_uri": "https://localhost:8080/"
        },
        "outputId": "c86194b3-196a-451a-f8c9-76a8bf402825"
      },
      "source": [
        "seg = int(input())\r\n",
        "hora = seg *3600\r\n",
        "print(hora, 'segundos')"
      ],
      "execution_count": null,
      "outputs": [
        {
          "output_type": "stream",
          "text": [
            "50\n",
            "180000 segundos\n"
          ],
          "name": "stdout"
        }
      ]
    },
    {
      "cell_type": "markdown",
      "metadata": {
        "id": "ylmkvuCwokMs"
      },
      "source": [
        "**Desafio 3**\r\n",
        "\r\n",
        "Escreva uma função que receba uma lista e retorne uma nova lista ordenada e sem valores duplicados."
      ]
    },
    {
      "cell_type": "code",
      "metadata": {
        "id": "kx2B7U6KouDw"
      },
      "source": [
        "lista = [1,2,3,4,3,30,3,4,5,6,9,3,2,1,2,4,5,15,6,6,3,13,4,45,5]\r\n"
      ],
      "execution_count": null,
      "outputs": []
    },
    {
      "cell_type": "code",
      "metadata": {
        "id": "W9Vv3YQthcJB"
      },
      "source": [
        "lista.sort()"
      ],
      "execution_count": null,
      "outputs": []
    },
    {
      "cell_type": "code",
      "metadata": {
        "id": "8yXEFbTNq18c",
        "colab": {
          "base_uri": "https://localhost:8080/"
        },
        "outputId": "e34bfd8c-0b72-48df-c549-eb58bbcc7c32"
      },
      "source": [
        "lista"
      ],
      "execution_count": null,
      "outputs": [
        {
          "output_type": "execute_result",
          "data": {
            "text/plain": [
              "[1, 1, 2, 2, 2, 3, 3, 3, 3, 3, 4, 4, 4, 4, 5, 5, 5, 6, 6, 6, 9, 13, 15, 30, 45]"
            ]
          },
          "metadata": {
            "tags": []
          },
          "execution_count": 24
        }
      ]
    },
    {
      "cell_type": "code",
      "metadata": {
        "id": "tFvgGCMh7j5K"
      },
      "source": [
        "def remove_repetidos(lista):\r\n",
        "    l = []\r\n",
        "    for i in lista:\r\n",
        "        if i not in l:\r\n",
        "            l.append(i)\r\n",
        "    l.sort()\r\n",
        "    return l\r\n",
        "lista = [1,2,3,4,3,30,3,4,5,6,9,3,2,1,2,4,5,15,6,6,3,13,4,45,5]    "
      ],
      "execution_count": null,
      "outputs": []
    },
    {
      "cell_type": "code",
      "metadata": {
        "id": "9BJb_qyr8I-T"
      },
      "source": [
        "lista = remove_repetidos(lista)"
      ],
      "execution_count": null,
      "outputs": []
    },
    {
      "cell_type": "code",
      "metadata": {
        "id": "h5O0u3-78T5E",
        "colab": {
          "base_uri": "https://localhost:8080/"
        },
        "outputId": "c3a5d7df-8cf8-4e59-8abd-fc3ba0ac4ddf"
      },
      "source": [
        "print(lista)"
      ],
      "execution_count": null,
      "outputs": [
        {
          "output_type": "stream",
          "text": [
            "[1, 2, 3, 4, 5, 6, 9, 13, 15, 30, 45]\n"
          ],
          "name": "stdout"
        }
      ]
    },
    {
      "cell_type": "markdown",
      "metadata": {
        "id": "ub5CgUEr9Dvk"
      },
      "source": [
        "**Desafio 4**\r\n",
        "\r\n",
        "Escreva uma função que receba uma string como parâmetro e retorne outra string com as palavras em ordem inversa.\r\n",
        "\r\n",
        "Exemplo:\r\n",
        "\r\n",
        "inverte_texto(\"Python é legal\") ➞ \"legal é Python\"\r\n"
      ]
    },
    {
      "cell_type": "code",
      "metadata": {
        "id": "nM0PplmU9Q07",
        "colab": {
          "base_uri": "https://localhost:8080/"
        },
        "outputId": "e82334e2-ebff-42d4-c943-10967330cfb0"
      },
      "source": [
        "## initializing the string\r\n",
        "string = \"I am a python programmer\"\r\n",
        "## splitting the string on space\r\n",
        "words = string.split()\r\n",
        "## reversing the words using reversed() function\r\n",
        "words = list(reversed(words))\r\n",
        "## joining the words and printing\r\n",
        "print(\" \".join(words))"
      ],
      "execution_count": null,
      "outputs": [
        {
          "output_type": "stream",
          "text": [
            "programmer python a am I\n"
          ],
          "name": "stdout"
        }
      ]
    },
    {
      "cell_type": "markdown",
      "metadata": {
        "id": "qd_t8H_gI3uq"
      },
      "source": [
        "**Desafio 5**\r\n",
        "\r\n",
        "Você trabalha em uma loja de sapatos e deve contatar uma lista de clientes dada pela seguinte lista de números de telefones:"
      ]
    },
    {
      "cell_type": "code",
      "metadata": {
        "id": "5Czw-kJyJEB3"
      },
      "source": [
        "numeros_telefone = [\r\n",
        "'(765) 368-1506',\r\n",
        "'(285) 608-2448',\r\n",
        "'(255) 826-9050',\r\n",
        "'(554) 994-1517',\r\n",
        "'(285) 608-2448',\r\n",
        "'(596) 336-5508',\r\n",
        "'(511) 821-7870',\r\n",
        "'(410) 665-4447',\r\n",
        "'(821) 642-8987',\r\n",
        "'(285) 608-2448',\r\n",
        "'(311) 799-3883',\r\n",
        "'(935) 875-2054',\r\n",
        "'(464) 788-2397',\r\n",
        "'(765) 368-1506',\r\n",
        "'(650) 684-1437',\r\n",
        "'(812) 816-0881',\r\n",
        "'(285) 608-2448',\r\n",
        "'(885) 407-1719',\r\n",
        "'(943) 769-1061',\r\n",
        "'(596) 336-5508',\r\n",
        "'(765) 368-1506',\r\n",
        "'(255) 826-9050',\r\n",
        "]"
      ],
      "execution_count": null,
      "outputs": []
    },
    {
      "cell_type": "code",
      "metadata": {
        "id": "V0wlzk8XJII2"
      },
      "source": [
        "def remove_repetidos(numeros_telefone):\r\n",
        "    l = []\r\n",
        "    for i in numeros_telefone:\r\n",
        "        if i not in l:\r\n",
        "            l.append(i)\r\n",
        "    l.sort()\r\n",
        "    return l\r\n",
        "    numeros_telefone = [\r\n",
        "'(765) 368-1506',\r\n",
        "'(285) 608-2448',\r\n",
        "'(255) 826-9050',\r\n",
        "'(554) 994-1517',\r\n",
        "'(285) 608-2448',\r\n",
        "'(596) 336-5508',\r\n",
        "'(511) 821-7870',\r\n",
        "'(410) 665-4447',\r\n",
        "'(821) 642-8987',\r\n",
        "'(285) 608-2448',\r\n",
        "'(311) 799-3883',\r\n",
        "'(935) 875-2054',\r\n",
        "'(464) 788-2397',\r\n",
        "'(765) 368-1506',\r\n",
        "'(650) 684-1437',\r\n",
        "'(812) 816-0881',\r\n",
        "'(285) 608-2448',\r\n",
        "'(885) 407-1719',\r\n",
        "'(943) 769-1061',\r\n",
        "'(596) 336-5508',\r\n",
        "'(765) 368-1506',\r\n",
        "'(255) 826-9050',\r\n",
        "]"
      ],
      "execution_count": null,
      "outputs": []
    },
    {
      "cell_type": "code",
      "metadata": {
        "id": "Wpfo-GWrJcja"
      },
      "source": [
        "lista = remove_repetidos(numeros_telefone)"
      ],
      "execution_count": null,
      "outputs": []
    },
    {
      "cell_type": "code",
      "metadata": {
        "id": "8JEYaLz-Jm0M",
        "colab": {
          "base_uri": "https://localhost:8080/"
        },
        "outputId": "6fcc06f4-0005-4ec9-f393-8f154bf8f5db"
      },
      "source": [
        "print((numeros_telefone))"
      ],
      "execution_count": null,
      "outputs": [
        {
          "output_type": "stream",
          "text": [
            "['(765) 368-1506', '(285) 608-2448', '(255) 826-9050', '(554) 994-1517', '(285) 608-2448', '(596) 336-5508', '(511) 821-7870', '(410) 665-4447', '(821) 642-8987', '(285) 608-2448', '(311) 799-3883', '(935) 875-2054', '(464) 788-2397', '(765) 368-1506', '(650) 684-1437', '(812) 816-0881', '(285) 608-2448', '(885) 407-1719', '(943) 769-1061', '(596) 336-5508', '(765) 368-1506', '(255) 826-9050']\n"
          ],
          "name": "stdout"
        }
      ]
    },
    {
      "cell_type": "code",
      "metadata": {
        "id": "D4Azq2SGPKgO"
      },
      "source": [
        "telefones_filtrados = ['(765) 368-1506', '(285) 608-2448', '(255) 826-9050', '(554) 994-1517', '(285) 608-2448', '(596) 336-5508', '(511) 821-7870', '(410) 665-4447', '(821) 642-8987', '(285) 608-2448', '(311) 799-3883', '(935) 875-2054', '(464) 788-2397', '(765) 368-1506', '(650) 684-1437', '(812) 816-0881', '(285) 608-2448', '(885) 407-1719', '(943) 769-1061', '(596) 336-5508', '(765) 368-1506', '(255) 826-9050']\r\n",
        "\r\n"
      ],
      "execution_count": null,
      "outputs": []
    },
    {
      "cell_type": "code",
      "metadata": {
        "colab": {
          "base_uri": "https://localhost:8080/"
        },
        "id": "I-LJkSahYvIX",
        "outputId": "27c0d9fa-bd96-4b78-b580-70574ca78f6f"
      },
      "source": [
        "len(telefones_filtrados)"
      ],
      "execution_count": null,
      "outputs": [
        {
          "output_type": "execute_result",
          "data": {
            "text/plain": [
              "22"
            ]
          },
          "metadata": {
            "tags": []
          },
          "execution_count": 121
        }
      ]
    },
    {
      "cell_type": "markdown",
      "metadata": {
        "id": "WGApNeo89aHw"
      },
      "source": [
        "**Desafio 6**\r\n",
        "\r\n",
        "Crie uma função que receba duas listas e retorne uma lista que contenha apenas os elementos comuns entre as listas (sem repetição). A função deve suportar lista de tamanhos diferentes."
      ]
    },
    {
      "cell_type": "code",
      "metadata": {
        "id": "KPyOUzT79lkI"
      },
      "source": [
        "a = [1, 1, 2, 3, 5, 8, 13, 21, 34, 55, 89]\r\n",
        "b = [1, 2, 3, 4, 5, 6, 7, 8, 9, 10, 11, 12, 13]"
      ],
      "execution_count": null,
      "outputs": []
    },
    {
      "cell_type": "code",
      "metadata": {
        "id": "D0SZyv9N_z_9",
        "colab": {
          "base_uri": "https://localhost:8080/"
        },
        "outputId": "4c517475-ad81-41e6-a4ba-055b42cf9b4a"
      },
      "source": [
        "nova_lista = a+b\r\n",
        "print(nova_lista)"
      ],
      "execution_count": null,
      "outputs": [
        {
          "output_type": "stream",
          "text": [
            "[1, 1, 2, 3, 5, 8, 13, 21, 34, 55, 89, 1, 2, 3, 4, 5, 6, 7, 8, 9, 10, 11, 12, 13]\n"
          ],
          "name": "stdout"
        }
      ]
    },
    {
      "cell_type": "code",
      "metadata": {
        "colab": {
          "base_uri": "https://localhost:8080/"
        },
        "id": "WfB6Uurjm_mb",
        "outputId": "c55697af-d2a9-441d-a170-e01f46504e86"
      },
      "source": [
        "def remove_repetidos(nova_lista):\r\n",
        "    l = []\r\n",
        "    for i in nova_lista:\r\n",
        "        if i not in l:\r\n",
        "            l.append(i)\r\n",
        "    l.sort()\r\n",
        "    return l\r\n",
        "\r\n",
        "nova_lista = [1, 1, 2, 3, 5, 8, 13, 21, 34, 55, 89, 1, 2, 3, 4, 5, 6, 7, 8, 9, 10, 11, 12, 13]\r\n",
        "\r\n",
        "nova_lista = remove_repetidos(nova_lista)\r\n",
        "print(nova_lista)"
      ],
      "execution_count": null,
      "outputs": [
        {
          "output_type": "stream",
          "text": [
            "[1, 2, 3, 4, 5, 6, 7, 8, 9, 10, 11, 12, 13, 21, 34, 55, 89]\n"
          ],
          "name": "stdout"
        }
      ]
    },
    {
      "cell_type": "markdown",
      "metadata": {
        "id": "PzU739bsDNAQ"
      },
      "source": [
        "**Desafio 7**\r\n",
        "\r\n",
        "Um professor de universidade tem uma turma com os seguintes números de telefones:\r\n",
        "\r\n",
        "\r\n",
        "Você seria capaz de criar uma lista dos alunos que ainda não entraram no grupo para que sejam contatados individualmente?\r\n"
      ]
    },
    {
      "cell_type": "code",
      "metadata": {
        "id": "u8TqZVvEEg8w"
      },
      "source": [
        "telefones_alunos = ['(873) 810-8267', '(633) 244-7325', '(300) 303-5462', \r\n",
        "                    '(938) 300-8890', '(429) 264-7427', '(737) 805-2326', \r\n",
        "                    '(768) 956-8497', '(941) 225-3869', '(203) 606-9463', \r\n",
        "                    '(294) 430-7720', '(896) 781-5087', '(397) 845-8267', \r\n",
        "                    '(788) 717-6858', '(419) 734-4188', '(682) 595-3278', \r\n",
        "                    '(835) 955-1498', '(296) 415-9944', '(897) 932-2512', \r\n",
        "                    '(263) 415-3893', '(822) 640-8496', '(640) 427-2597', \r\n",
        "                    '(856) 338-7094', '(807) 554-4076', '(641) 367-5279', \r\n",
        "                    '(828) 866-0696', '(727) 376-5749', '(921) 948-2244', \r\n",
        "                    '(964) 710-9625', '(596) 685-1242', '(403) 343-7705', \r\n",
        "                    '(227) 389-3685', '(264) 372-7298', '(797) 649-3653', \r\n",
        "                    '(374) 361-3844', '(618) 490-4228', '(987) 803-5550', \r\n",
        "                    '(228) 976-9699', '(757) 450-9985', '(491) 666-5367',\r\n",
        "                    ]\r\n",
        "entraram_no_grupo = ['(596) 685-1242', '(727) 376-5749', '(987) 803-5550', \r\n",
        "                     '(633) 244-7325', '(828) 866-0696', '(263) 415-3893', \r\n",
        "                     '(203) 606-9463', '(296) 415-9944', '(419) 734-4188', \r\n",
        "                     '(618) 490-4228', '(682) 595-3278', '(938) 300-8890', \r\n",
        "                     '(264) 372-7298', '(768) 956-8497', '(737) 805-2326', \r\n",
        "                     '(788) 717-6858', '(228) 976-9699', '(896) 781-5087',\r\n",
        "                     '(374) 361-3844', '(921) 948-2244', '(807) 554-4076', \r\n",
        "                     '(822) 640-8496', '(227) 389-3685', '(429) 264-7427', \r\n",
        "                     '(397) 845-8267']\r\n",
        "                    "
      ],
      "execution_count": null,
      "outputs": []
    },
    {
      "cell_type": "code",
      "metadata": {
        "id": "kNI8U2qY-IqZ",
        "colab": {
          "base_uri": "https://localhost:8080/"
        },
        "outputId": "edf7a59b-fdee-45b9-d2ae-816d4cd323b5"
      },
      "source": [
        "len(telefones_alunos)"
      ],
      "execution_count": null,
      "outputs": [
        {
          "output_type": "execute_result",
          "data": {
            "text/plain": [
              "39"
            ]
          },
          "metadata": {
            "tags": []
          },
          "execution_count": 102
        }
      ]
    },
    {
      "cell_type": "code",
      "metadata": {
        "id": "ZOM-M_Zd-PMW",
        "colab": {
          "base_uri": "https://localhost:8080/"
        },
        "outputId": "1df5302f-3a70-4032-ab2a-d699df9e4015"
      },
      "source": [
        "len(entraram_no_grupo)\r\n"
      ],
      "execution_count": null,
      "outputs": [
        {
          "output_type": "execute_result",
          "data": {
            "text/plain": [
              "25"
            ]
          },
          "metadata": {
            "tags": []
          },
          "execution_count": 103
        }
      ]
    },
    {
      "cell_type": "code",
      "metadata": {
        "id": "ttGB_abSAVUk",
        "colab": {
          "base_uri": "https://localhost:8080/"
        },
        "outputId": "74d1caf1-0123-4028-b59e-4ba733e94a96"
      },
      "source": [
        "telefones_alunos = ['(873) 810-8267', '(633) 244-7325', '(300) 303-5462', \r\n",
        "                    '(938) 300-8890', '(429) 264-7427', '(737) 805-2326', \r\n",
        "                    '(768) 956-8497', '(941) 225-3869', '(203) 606-9463', \r\n",
        "                    '(294) 430-7720', '(896) 781-5087', '(397) 845-8267', \r\n",
        "                    '(788) 717-6858', '(419) 734-4188', '(682) 595-3278', \r\n",
        "                    '(835) 955-1498', '(296) 415-9944', '(897) 932-2512', \r\n",
        "                    '(263) 415-3893', '(822) 640-8496', '(640) 427-2597', \r\n",
        "                    '(856) 338-7094', '(807) 554-4076', '(641) 367-5279', \r\n",
        "                    '(828) 866-0696', '(727) 376-5749', '(921) 948-2244', \r\n",
        "                    '(964) 710-9625', '(596) 685-1242', '(403) 343-7705', \r\n",
        "                    '(227) 389-3685', '(264) 372-7298', '(797) 649-3653', \r\n",
        "                    '(374) 361-3844', '(618) 490-4228', '(987) 803-5550', \r\n",
        "                    '(228) 976-9699', '(757) 450-9985', '(491) 666-5367',\r\n",
        "                    ]\r\n",
        "entraram_no_grupo = ['(596) 685-1242', '(727) 376-5749', '(987) 803-5550', \r\n",
        "                     '(633) 244-7325', '(828) 866-0696', '(263) 415-3893', \r\n",
        "                     '(203) 606-9463', '(296) 415-9944', '(419) 734-4188', \r\n",
        "                     '(618) 490-4228', '(682) 595-3278', '(938) 300-8890', \r\n",
        "                     '(264) 372-7298', '(768) 956-8497', '(737) 805-2326', \r\n",
        "                     '(788) 717-6858', '(228) 976-9699', '(896) 781-5087',\r\n",
        "                     '(374) 361-3844', '(921) 948-2244', '(807) 554-4076', \r\n",
        "                     '(822) 640-8496', '(227) 389-3685', '(429) 264-7427', \r\n",
        "                     '(397) 845-8267']\r\n",
        "\r\n",
        "res = [x for x in telefones_alunos + entraram_no_grupo if x not in telefones_alunos or x not in entraram_no_grupo]\r\n",
        " \r\n",
        "print(res)"
      ],
      "execution_count": null,
      "outputs": [
        {
          "output_type": "stream",
          "text": [
            "['(873) 810-8267', '(300) 303-5462', '(941) 225-3869', '(294) 430-7720', '(835) 955-1498', '(897) 932-2512', '(640) 427-2597', '(856) 338-7094', '(641) 367-5279', '(964) 710-9625', '(403) 343-7705', '(797) 649-3653', '(757) 450-9985', '(491) 666-5367']\n"
          ],
          "name": "stdout"
        }
      ]
    },
    {
      "cell_type": "code",
      "metadata": {
        "colab": {
          "base_uri": "https://localhost:8080/"
        },
        "id": "13-Eofixs2tj",
        "outputId": "8ba2f1fb-8304-4784-8f5b-500e9df10387"
      },
      "source": [
        "len(res)"
      ],
      "execution_count": null,
      "outputs": [
        {
          "output_type": "execute_result",
          "data": {
            "text/plain": [
              "14"
            ]
          },
          "metadata": {
            "tags": []
          },
          "execution_count": 117
        }
      ]
    },
    {
      "cell_type": "markdown",
      "metadata": {
        "id": "Y2ToLMl5JLmq"
      },
      "source": [
        "\r\n",
        "**Desafio 8**\r\n",
        "\r\n",
        "Escreva um script Python para encontrar as 10 palavras mais longas em um arquivo.\r\n",
        "\r\n",
        "O arquivo TXT está localizado na mesma pasta do projeto (texto.txt)."
      ]
    },
    {
      "cell_type": "code",
      "metadata": {
        "id": "lcmS3EZIMIEA",
        "colab": {
          "base_uri": "https://localhost:8080/"
        },
        "outputId": "8a6a6292-a25e-4928-d3fc-a6c5f73c46db"
      },
      "source": [
        "import os\r\n",
        "os.path.isfile(\"/content/texto_desafio_8.txt\")"
      ],
      "execution_count": null,
      "outputs": [
        {
          "output_type": "execute_result",
          "data": {
            "text/plain": [
              "True"
            ]
          },
          "metadata": {
            "tags": []
          },
          "execution_count": 139
        }
      ]
    },
    {
      "cell_type": "code",
      "metadata": {
        "colab": {
          "base_uri": "https://localhost:8080/"
        },
        "id": "0mTA3T0Z1r0k",
        "outputId": "05ad3aef-8ea3-46ef-d4bc-3f97fef3f363"
      },
      "source": [
        "f = open(\"/content/texto_desafio_8.txt\")\r\n",
        "print(f.read())"
      ],
      "execution_count": null,
      "outputs": [
        {
          "output_type": "stream",
          "text": [
            "What is Python language?                                                \n",
            "Python is a widely used high-level, general-purpose, interpreted, dynamic programming language.Its design philosophy emphasizes code readability, and its syntax allows programmers to express concepts in fewer lines of code than possible in \n",
            "languages such as C++ or Java. \n",
            "Python supports multiple programming paradigms, including object-oriented, imperative and functional programming or procedural styles.It features a dynamic type system and automatic memory management and has a large and comprehensive standard library.The best way we learn anything is by practice and exercise questions. We  have started this section for those (beginner to intermediate) who are familiar with Python.\n"
          ],
          "name": "stdout"
        }
      ]
    },
    {
      "cell_type": "code",
      "metadata": {
        "id": "hGiosPaGaroT",
        "colab": {
          "base_uri": "https://localhost:8080/"
        },
        "outputId": "5c937b60-389b-4721-e63b-71b9cfc9f3e9"
      },
      "source": [
        "texto = 'What is Python language? Python is a widely used high-level, general-purpose, interpreted, dynamic programming language.Its design philosophy emphasizes code readability, and its syntax allows programmers to express concepts in fewer lines of code than possible in languages such as C++ or Java. Python supports multiple programming paradigms, including object-oriented, imperative and functional programming or procedural styles.It features a dynamic type system and automatic memory management and has a large and comprehensive standard library.The best way we learn anything is by practice and exercise questions. We  have started this section for those (beginner to intermediate) who are familiar with Python.'\r\n",
        "lista_texto = texto.split(' ')\r\n",
        "print(lista_texto)"
      ],
      "execution_count": null,
      "outputs": [
        {
          "output_type": "stream",
          "text": [
            "['What', 'is', 'Python', 'language?', 'Python', 'is', 'a', 'widely', 'used', 'high-level,', 'general-purpose,', 'interpreted,', 'dynamic', 'programming', 'language.Its', 'design', 'philosophy', 'emphasizes', 'code', 'readability,', 'and', 'its', 'syntax', 'allows', 'programmers', 'to', 'express', 'concepts', 'in', 'fewer', 'lines', 'of', 'code', 'than', 'possible', 'in', 'languages', 'such', 'as', 'C++', 'or', 'Java.', 'Python', 'supports', 'multiple', 'programming', 'paradigms,', 'including', 'object-oriented,', 'imperative', 'and', 'functional', 'programming', 'or', 'procedural', 'styles.It', 'features', 'a', 'dynamic', 'type', 'system', 'and', 'automatic', 'memory', 'management', 'and', 'has', 'a', 'large', 'and', 'comprehensive', 'standard', 'library.The', 'best', 'way', 'we', 'learn', 'anything', 'is', 'by', 'practice', 'and', 'exercise', 'questions.', 'We', '', 'have', 'started', 'this', 'section', 'for', 'those', '(beginner', 'to', 'intermediate)', 'who', 'are', 'familiar', 'with', 'Python.']\n"
          ],
          "name": "stdout"
        }
      ]
    },
    {
      "cell_type": "code",
      "metadata": {
        "id": "FWdlC_ovrarG",
        "colab": {
          "base_uri": "https://localhost:8080/"
        },
        "outputId": "68404724-ff6c-4b28-bb82-de79e1f5f777"
      },
      "source": [
        "from collections import Counter\r\n",
        "Counter(lista_texto).most_common()\r\n",
        "# Initializing Dictionary\r\n",
        "d = {}\r\n",
        "\r\n",
        "# counting number of times each word comes up in list of words (in dictionary)\r\n",
        "for word in lista_texto: \r\n",
        "    d[word] = d.get(word, 0) + 1\r\n",
        "word_freq = []\r\n",
        "for key, value in d.items():\r\n",
        "    word_freq.append((value, key))\r\n",
        "word_freq.sort(reverse=True) \r\n",
        "print(word_freq)"
      ],
      "execution_count": null,
      "outputs": [
        {
          "output_type": "stream",
          "text": [
            "[(6, 'and'), (3, 'programming'), (3, 'is'), (3, 'a'), (3, 'Python'), (2, 'to'), (2, 'or'), (2, 'in'), (2, 'dynamic'), (2, 'code'), (1, 'with'), (1, 'widely'), (1, 'who'), (1, 'we'), (1, 'way'), (1, 'used'), (1, 'type'), (1, 'those'), (1, 'this'), (1, 'than'), (1, 'system'), (1, 'syntax'), (1, 'supports'), (1, 'such'), (1, 'styles.It'), (1, 'started'), (1, 'standard'), (1, 'section'), (1, 'readability,'), (1, 'questions.'), (1, 'programmers'), (1, 'procedural'), (1, 'practice'), (1, 'possible'), (1, 'philosophy'), (1, 'paradigms,'), (1, 'of'), (1, 'object-oriented,'), (1, 'multiple'), (1, 'memory'), (1, 'management'), (1, 'lines'), (1, 'library.The'), (1, 'learn'), (1, 'large'), (1, 'languages'), (1, 'language?'), (1, 'language.Its'), (1, 'its'), (1, 'interpreted,'), (1, 'intermediate)'), (1, 'including'), (1, 'imperative'), (1, 'high-level,'), (1, 'have'), (1, 'has'), (1, 'general-purpose,'), (1, 'functional'), (1, 'for'), (1, 'fewer'), (1, 'features'), (1, 'familiar'), (1, 'express'), (1, 'exercise'), (1, 'emphasizes'), (1, 'design'), (1, 'concepts'), (1, 'comprehensive'), (1, 'by'), (1, 'best'), (1, 'automatic'), (1, 'as'), (1, 'are'), (1, 'anything'), (1, 'allows'), (1, 'What'), (1, 'We'), (1, 'Python.'), (1, 'Java.'), (1, 'C++'), (1, '(beginner'), (1, '')]\n"
          ],
          "name": "stdout"
        }
      ]
    },
    {
      "cell_type": "markdown",
      "metadata": {
        "id": "b39NQPLvtIoR"
      },
      "source": [
        "**Desafio 9**\r\n",
        "\r\n",
        "Escreva uma função que retorne a soma dos múltiplos de 3 e 5 entre 0 e um número limite (parâmetro). Por exemplo, se o limite for 20, ele retornará a soma de 3, 5, 6, 9, 10, 12, 15, 18, 20."
      ]
    },
    {
      "cell_type": "code",
      "metadata": {
        "colab": {
          "base_uri": "https://localhost:8080/"
        },
        "id": "bDQVfc_DB14a",
        "outputId": "3e59dec4-d669-4c5d-abaa-62f877ead2c3"
      },
      "source": [
        "list(range(1,31))"
      ],
      "execution_count": null,
      "outputs": [
        {
          "output_type": "execute_result",
          "data": {
            "text/plain": [
              "[1,\n",
              " 2,\n",
              " 3,\n",
              " 4,\n",
              " 5,\n",
              " 6,\n",
              " 7,\n",
              " 8,\n",
              " 9,\n",
              " 10,\n",
              " 11,\n",
              " 12,\n",
              " 13,\n",
              " 14,\n",
              " 15,\n",
              " 16,\n",
              " 17,\n",
              " 18,\n",
              " 19,\n",
              " 20,\n",
              " 21,\n",
              " 22,\n",
              " 23,\n",
              " 24,\n",
              " 25,\n",
              " 26,\n",
              " 27,\n",
              " 28,\n",
              " 29,\n",
              " 30]"
            ]
          },
          "metadata": {
            "tags": []
          },
          "execution_count": 7
        }
      ]
    },
    {
      "cell_type": "code",
      "metadata": {
        "id": "oilrzJbpIM8s"
      },
      "source": [
        "numeros = [list(range(1,31))]"
      ],
      "execution_count": null,
      "outputs": []
    },
    {
      "cell_type": "code",
      "metadata": {
        "id": "K2O-3PdBWnQ5"
      },
      "source": [
        "import math"
      ],
      "execution_count": null,
      "outputs": []
    },
    {
      "cell_type": "code",
      "metadata": {
        "colab": {
          "base_uri": "https://localhost:8080/"
        },
        "id": "s16E_2M8tPj1",
        "outputId": "bc19fd8f-3a45-4f17-87af-126a756102f4"
      },
      "source": [
        "for i in range(3,31,3):\r\n",
        "     print(i)"
      ],
      "execution_count": null,
      "outputs": [
        {
          "output_type": "stream",
          "text": [
            "3\n",
            "6\n",
            "9\n",
            "12\n",
            "15\n",
            "18\n",
            "21\n",
            "24\n",
            "27\n",
            "30\n"
          ],
          "name": "stdout"
        }
      ]
    },
    {
      "cell_type": "code",
      "metadata": {
        "colab": {
          "base_uri": "https://localhost:8080/"
        },
        "id": "pOvkXkbe1D-V",
        "outputId": "6b9278da-7329-4860-b648-ed7901d6eda6"
      },
      "source": [
        "def soma_elementos(lista):\r\n",
        "    l = lista\r\n",
        "    return l\r\n",
        "\r\n",
        "l = soma_elementos([3,6,9,12,15,18,21,24,27,30])\r\n",
        "soma = 0\r\n",
        "for i in range(len(l)):\r\n",
        "    soma += l[i]\r\n",
        "print(soma)"
      ],
      "execution_count": null,
      "outputs": [
        {
          "output_type": "stream",
          "text": [
            "165\n"
          ],
          "name": "stdout"
        }
      ]
    },
    {
      "cell_type": "code",
      "metadata": {
        "colab": {
          "base_uri": "https://localhost:8080/"
        },
        "id": "Rlchn4d10wo5",
        "outputId": "95ce14f6-3979-49d8-9b55-c970cb48dcd1"
      },
      "source": [
        "for i in range(5,31,5):\r\n",
        "     print(i)"
      ],
      "execution_count": null,
      "outputs": [
        {
          "output_type": "stream",
          "text": [
            "5\n",
            "10\n",
            "15\n",
            "20\n",
            "25\n",
            "30\n"
          ],
          "name": "stdout"
        }
      ]
    },
    {
      "cell_type": "code",
      "metadata": {
        "colab": {
          "base_uri": "https://localhost:8080/"
        },
        "id": "rKhfd2FKyde9",
        "outputId": "fef8aa22-1442-40ce-a78a-88ee74ab3288"
      },
      "source": [
        "def soma_elementos(lista):\r\n",
        "    l = lista\r\n",
        "    return l\r\n",
        "\r\n",
        "l = soma_elementos([5,10,15,20,25,30])\r\n",
        "soma = 0\r\n",
        "for i in range(len(l)):\r\n",
        "    soma += l[i]\r\n",
        "print(soma)"
      ],
      "execution_count": null,
      "outputs": [
        {
          "output_type": "stream",
          "text": [
            "105\n"
          ],
          "name": "stdout"
        }
      ]
    },
    {
      "cell_type": "markdown",
      "metadata": {
        "id": "AZtn1uV8te9y"
      },
      "source": [
        "**Desafio 10**\r\n",
        "\r\n",
        "Dada uma lista, divida-a em 3 partes iguais e reverta cada lista.\r\n",
        "\r\n",
        "Exemplo:\r\n",
        "\r\n",
        "sampleList = [11, 45, 8, 23, 14, 12, 78, 45, 89]\r\n",
        "\r\n",
        "Parte 1 [8, 45, 11]\r\n",
        "\r\n",
        "Parte 2 [12, 14, 23]\r\n",
        "\r\n",
        "Parte 3 [89, 45, 78]"
      ]
    },
    {
      "cell_type": "code",
      "metadata": {
        "id": "p1uYX10LNmJf"
      },
      "source": [
        "sample_list1 = [2,5,9,14,18,20,23,32,48,65,66,70,75,78,89,91,92,99]"
      ],
      "execution_count": null,
      "outputs": []
    },
    {
      "cell_type": "code",
      "metadata": {
        "colab": {
          "base_uri": "https://localhost:8080/"
        },
        "id": "q_jFeZmiNyw7",
        "outputId": "5977dd93-6cbb-4194-fa1e-1d9ae19a4b6a"
      },
      "source": [
        "len(sample_list1)"
      ],
      "execution_count": null,
      "outputs": [
        {
          "output_type": "execute_result",
          "data": {
            "text/plain": [
              "18"
            ]
          },
          "metadata": {
            "tags": []
          },
          "execution_count": 309
        }
      ]
    },
    {
      "cell_type": "code",
      "metadata": {
        "colab": {
          "base_uri": "https://localhost:8080/"
        },
        "id": "HVu2w1JsX0j1",
        "outputId": "2ed5a9c1-052d-4f65-d626-56974c628f57"
      },
      "source": [
        "sample_list1 = [2,5,9,14,18,20,23,32,48,65,66,70,75,78,89,91,92,99]\r\n",
        "from_0_to_5 = sample_list1[0:5]\r\n",
        "print('Parte 1 = ',from_0_to_5)\r\n",
        "sample_list1 = [2,5,9,14,18,20,23,32,48,65,66,70,75,78,89,91,92,99]\r\n",
        "from_6_to_11 = sample_list1[6:11]\r\n",
        "print('Parte 2 = ',from_6_to_11)\r\n",
        "sample_list1 = [2,5,9,14,18,20,23,32,48,65,66,70,75,78,89,91,92,99]\r\n",
        "from_12_to_18 = sample_list1[12:18]\r\n",
        "print('Parte 3 = ',from_12_to_18)"
      ],
      "execution_count": null,
      "outputs": [
        {
          "output_type": "stream",
          "text": [
            "Parte 1 =  [2, 5, 9, 14, 18]\n",
            "Parte 2 =  [23, 32, 48, 65, 66]\n",
            "Parte 3 =  [75, 78, 89, 91, 92, 99]\n"
          ],
          "name": "stdout"
        }
      ]
    },
    {
      "cell_type": "code",
      "metadata": {
        "colab": {
          "base_uri": "https://localhost:8080/"
        },
        "id": "Xld97FW3Zyid",
        "outputId": "fdf10060-e004-471c-df3d-497b827b46da"
      },
      "source": [
        "Parte1 = [2, 5, 9, 14, 18]\r\n",
        "Parte1.reverse()\r\n",
        "print('Parte 1 = ', Parte1)\r\n",
        "Parte2 = [23, 32, 48, 65, 66]\r\n",
        "Parte2.reverse()\r\n",
        "print('Parte 2 = ', Parte2)\r\n",
        "Parte3 = [75, 78, 89, 91, 92, 99]\r\n",
        "Parte3.reverse()\r\n",
        "print('Parte 3 = ', Parte3)\r\n",
        "\r\n"
      ],
      "execution_count": null,
      "outputs": [
        {
          "output_type": "stream",
          "text": [
            "Parte 1 =  [18, 14, 9, 5, 2]\n",
            "Parte 2 =  [66, 65, 48, 32, 23]\n",
            "Parte 3 =  [99, 92, 91, 89, 78, 75]\n"
          ],
          "name": "stdout"
        }
      ]
    },
    {
      "cell_type": "markdown",
      "metadata": {
        "id": "WQzs0sSetnaX"
      },
      "source": [
        "**Desafio 11**\r\n",
        "\r\n",
        "Dados uma sequência com n números inteiros, determinar quantos números da sequência são pares e quantos são ímpares. Por exemplo, para a sequência\r\n",
        "\r\n",
        "6   2   7  -5   8  -4\r\n",
        "\r\n",
        "a sua função deve retornar o número 4 para o número de pares e 2 para o de ímpares. A saída deve ser um tupla contendo primeiramente o número de pares e em seguida o número de ímpares. Para o exemplo anterior, a saída seria (4, 2)."
      ]
    },
    {
      "cell_type": "code",
      "metadata": {
        "colab": {
          "base_uri": "https://localhost:8080/"
        },
        "id": "rcz0Y2kwBh5H",
        "outputId": "6c36ea52-af96-4612-fd1a-a5af8e060352"
      },
      "source": [
        "num_lista = [6,2,7,-5,8,-4]\r\n",
        "\r\n",
        "par_count, impar_count = 0, 0\r\n",
        "num = 0\r\n",
        "  \r\n",
        " \r\n",
        "while(num < len(num_lista)): \r\n",
        "      \r\n",
        "    \r\n",
        "    if num_lista[num] % 2 == 0: \r\n",
        "       par_count += 1\r\n",
        "    else: \r\n",
        "        impar_count += 1\r\n",
        "      \r\n",
        "     \r\n",
        "    num += 1\r\n",
        "\r\n",
        "print(\"Números pares da lista: \", par_count) \r\n",
        "print(\"Números ímpares da lista: \", impar_count) "
      ],
      "execution_count": null,
      "outputs": [
        {
          "output_type": "stream",
          "text": [
            "Números pares da lista:  4\n",
            "Números ímpares da lista:  2\n"
          ],
          "name": "stdout"
        }
      ]
    },
    {
      "cell_type": "markdown",
      "metadata": {
        "id": "7u8bvOdGtxUL"
      },
      "source": [
        "**Desafio 12**\r\n",
        "\r\n",
        "Escreva uma função em Python para verificar a validade de uma senha.\r\n",
        "\r\n",
        "Validação:\r\n",
        "\r\n",
        "Pelo menos 1 letra entre [a-z] e 1 letra entre [A-Z].\r\n",
        "Pelo menos 1 número entre [0-9].\r\n",
        "Pelo menos 1 caractere de [$ # @].\r\n",
        "Comprimento mínimo de 6 caracteres.\r\n",
        "Comprimento máximo de 16 caracteres.\r\n",
        "Entradas: \"12345678\", \"J3sus0\", \"#Te5t300\", \"J*90j12374\", \"Michheeul\", \"Monk3y6\"\r\n",
        "\r\n",
        "A saída deve ser a senha e um texto indicando se a senha é válida ou inválida:\r\n",
        "\r\n",
        "\"1234\" - Senha inválida\r\n",
        "\"Qw#1234\" - Senha válida"
      ]
    },
    {
      "cell_type": "code",
      "metadata": {
        "id": "4k-qUl0zMdJM"
      },
      "source": [
        "import re\r\n",
        "Senhas = [\"12345678\", \"J3sus0\", \"#Te5t300\", \"J*90j12374\", \"Michheeul\", \"Monk3y6\"]"
      ],
      "execution_count": 1,
      "outputs": []
    },
    {
      "cell_type": "code",
      "metadata": {
        "id": "v-n2R8FQt7RL"
      },
      "source": [
        "def validar_senha (senha):\r\n",
        "  if (len(senha)) < 6 or len(senha) > 16:\r\n",
        "    return False\r\n",
        "  if (len(re.findall(r'[A-Z]', senha))==0):\r\n",
        "    return False\r\n",
        "  if (len(re.findall(r'[a-z]', senha))==0):\r\n",
        "    return False\r\n",
        "  if (len(re.findall(r'[0-9]', senha))==0):\r\n",
        "    return False\r\n",
        "  if (len(re.findall(r'[$,#,@]', senha))==0):\r\n",
        "    return False\r\n",
        "  return True\r\n",
        "  "
      ],
      "execution_count": 2,
      "outputs": []
    },
    {
      "cell_type": "code",
      "metadata": {
        "colab": {
          "base_uri": "https://localhost:8080/"
        },
        "id": "MiRRxSeoTOFn",
        "outputId": "488817b3-f555-4920-d214-379d0c6f90eb"
      },
      "source": [
        "for item in Senhas:\r\n",
        "  if (validar_senha(item)):\r\n",
        "    print(f'Senha Válida: {item}')\r\n",
        "  else:\r\n",
        "    print(f'Senha Inválida: {item}')"
      ],
      "execution_count": 3,
      "outputs": [
        {
          "output_type": "stream",
          "text": [
            "Senha Inválida: 12345678\n",
            "Senha Inválida: J3sus0\n",
            "Senha Válida: #Te5t300\n",
            "Senha Inválida: J*90j12374\n",
            "Senha Inválida: Michheeul\n",
            "Senha Inválida: Monk3y6\n"
          ],
          "name": "stdout"
        }
      ]
    }
  ]
}